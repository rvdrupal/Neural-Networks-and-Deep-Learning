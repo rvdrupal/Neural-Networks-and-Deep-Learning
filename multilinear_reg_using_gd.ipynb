{
  "nbformat": 4,
  "nbformat_minor": 0,
  "metadata": {
    "colab": {
      "name": "multilinear_reg using_gd.ipynb",
      "provenance": [],
      "collapsed_sections": [],
      "authorship_tag": "ABX9TyMnYkFV811us/IWZqqZOlIF",
      "include_colab_link": true
    },
    "kernelspec": {
      "name": "python3",
      "display_name": "Python 3"
    }
  },
  "cells": [
    {
      "cell_type": "markdown",
      "metadata": {
        "id": "view-in-github",
        "colab_type": "text"
      },
      "source": [
        "<a href=\"https://colab.research.google.com/github/rvdrupal/Neural-Networks-and-Deep-Learning/blob/master/multilinear_reg_using_gd.ipynb\" target=\"_parent\"><img src=\"https://colab.research.google.com/assets/colab-badge.svg\" alt=\"Open In Colab\"/></a>"
      ]
    },
    {
      "cell_type": "code",
      "metadata": {
        "id": "D16Sqmf_3wfb",
        "colab_type": "code",
        "colab": {}
      },
      "source": [
        "import numpy as np\n",
        "import pandas as pd\n",
        "import matplotlib.pyplot as plt "
      ],
      "execution_count": 0,
      "outputs": []
    },
    {
      "cell_type": "code",
      "metadata": {
        "id": "k7HDd2q-3yTc",
        "colab_type": "code",
        "colab": {}
      },
      "source": [
        "my_data=pd.read_csv(\"loandata.csv\")"
      ],
      "execution_count": 0,
      "outputs": []
    },
    {
      "cell_type": "code",
      "metadata": {
        "id": "frpb2Ipk4_7F",
        "colab_type": "code",
        "outputId": "a4af2f68-6964-42e7-98ef-d24fe485f93c",
        "colab": {
          "base_uri": "https://localhost:8080/",
          "height": 224
        }
      },
      "source": [
        "my_data.head()"
      ],
      "execution_count": 0,
      "outputs": [
        {
          "output_type": "execute_result",
          "data": {
            "text/html": [
              "<div>\n",
              "<style scoped>\n",
              "    .dataframe tbody tr th:only-of-type {\n",
              "        vertical-align: middle;\n",
              "    }\n",
              "\n",
              "    .dataframe tbody tr th {\n",
              "        vertical-align: top;\n",
              "    }\n",
              "\n",
              "    .dataframe thead th {\n",
              "        text-align: right;\n",
              "    }\n",
              "</style>\n",
              "<table border=\"1\" class=\"dataframe\">\n",
              "  <thead>\n",
              "    <tr style=\"text-align: right;\">\n",
              "      <th></th>\n",
              "      <th>ID</th>\n",
              "      <th>Amount.Requested</th>\n",
              "      <th>Amount.Funded.By.Investors</th>\n",
              "      <th>Interest.Rate</th>\n",
              "      <th>Loan.Length</th>\n",
              "      <th>Loan.Purpose</th>\n",
              "      <th>Debt.To.Income.Ratio</th>\n",
              "      <th>Home.Ownership</th>\n",
              "      <th>Monthly.Income</th>\n",
              "      <th>Open.CREDIT.Lines</th>\n",
              "      <th>Revolving.CREDIT.Balance</th>\n",
              "      <th>Inquiries.in.the.Last.6.Months</th>\n",
              "      <th>Employment.Length</th>\n",
              "    </tr>\n",
              "  </thead>\n",
              "  <tbody>\n",
              "    <tr>\n",
              "      <th>0</th>\n",
              "      <td>81174.0</td>\n",
              "      <td>20000</td>\n",
              "      <td>20000.0</td>\n",
              "      <td>0.09</td>\n",
              "      <td>36 months</td>\n",
              "      <td>debt_consolidation</td>\n",
              "      <td>0.15</td>\n",
              "      <td>MORTGAGE</td>\n",
              "      <td>6541.67</td>\n",
              "      <td>14</td>\n",
              "      <td>14272</td>\n",
              "      <td>2</td>\n",
              "      <td>1 year</td>\n",
              "    </tr>\n",
              "    <tr>\n",
              "      <th>1</th>\n",
              "      <td>99592.0</td>\n",
              "      <td>19200</td>\n",
              "      <td>19200.0</td>\n",
              "      <td>0.12</td>\n",
              "      <td>36 months</td>\n",
              "      <td>debt_consolidation</td>\n",
              "      <td>0.28</td>\n",
              "      <td>MORTGAGE</td>\n",
              "      <td>4583.33</td>\n",
              "      <td>12</td>\n",
              "      <td>11140</td>\n",
              "      <td>1</td>\n",
              "      <td>2 years</td>\n",
              "    </tr>\n",
              "    <tr>\n",
              "      <th>2</th>\n",
              "      <td>80059.0</td>\n",
              "      <td>35000</td>\n",
              "      <td>35000.0</td>\n",
              "      <td>0.22</td>\n",
              "      <td>60 months</td>\n",
              "      <td>debt_consolidation</td>\n",
              "      <td>0.24</td>\n",
              "      <td>MORTGAGE</td>\n",
              "      <td>11500.00</td>\n",
              "      <td>14</td>\n",
              "      <td>21977</td>\n",
              "      <td>1</td>\n",
              "      <td>2 years</td>\n",
              "    </tr>\n",
              "    <tr>\n",
              "      <th>3</th>\n",
              "      <td>15825.0</td>\n",
              "      <td>10000</td>\n",
              "      <td>9975.0</td>\n",
              "      <td>0.10</td>\n",
              "      <td>36 months</td>\n",
              "      <td>debt_consolidation</td>\n",
              "      <td>0.14</td>\n",
              "      <td>MORTGAGE</td>\n",
              "      <td>3833.33</td>\n",
              "      <td>10</td>\n",
              "      <td>9346</td>\n",
              "      <td>0</td>\n",
              "      <td>5 years</td>\n",
              "    </tr>\n",
              "    <tr>\n",
              "      <th>4</th>\n",
              "      <td>33182.0</td>\n",
              "      <td>12000</td>\n",
              "      <td>12000.0</td>\n",
              "      <td>0.12</td>\n",
              "      <td>36 months</td>\n",
              "      <td>credit_card</td>\n",
              "      <td>0.19</td>\n",
              "      <td>RENT</td>\n",
              "      <td>3195.00</td>\n",
              "      <td>11</td>\n",
              "      <td>14469</td>\n",
              "      <td>0</td>\n",
              "      <td>9 years</td>\n",
              "    </tr>\n",
              "  </tbody>\n",
              "</table>\n",
              "</div>"
            ],
            "text/plain": [
              "        ID  Amount.Requested  ...  Inquiries.in.the.Last.6.Months  Employment.Length\n",
              "0  81174.0             20000  ...                               2             1 year\n",
              "1  99592.0             19200  ...                               1            2 years\n",
              "2  80059.0             35000  ...                               1            2 years\n",
              "3  15825.0             10000  ...                               0            5 years\n",
              "4  33182.0             12000  ...                               0            9 years\n",
              "\n",
              "[5 rows x 13 columns]"
            ]
          },
          "metadata": {
            "tags": []
          },
          "execution_count": 43
        }
      ]
    },
    {
      "cell_type": "code",
      "metadata": {
        "id": "11SuRRA38BcK",
        "colab_type": "code",
        "outputId": "65d55b62-7c03-4e94-af69-bdbce527ab8d",
        "colab": {
          "base_uri": "https://localhost:8080/",
          "height": 170
        }
      },
      "source": [
        "print(my_data.groupby('Loan.Length')[\"ID\"].count())\n",
        "my_data[\"Loan.Length\"].replace(['.'],['36 months'],inplace=True)#Replacing with mode\n",
        "print(my_data.groupby('Loan.Length')[\"ID\"].count())"
      ],
      "execution_count": 0,
      "outputs": [
        {
          "output_type": "stream",
          "text": [
            "Loan.Length\n",
            ".               1\n",
            "36 months    1950\n",
            "60 months     547\n",
            "Name: ID, dtype: int64\n",
            "Loan.Length\n",
            "36 months    1951\n",
            "60 months     547\n",
            "Name: ID, dtype: int64\n"
          ],
          "name": "stdout"
        }
      ]
    },
    {
      "cell_type": "markdown",
      "metadata": {
        "id": "8U1fminB_V54",
        "colab_type": "text"
      },
      "source": [
        "###Seperate the Numerical and Categorical variables"
      ]
    },
    {
      "cell_type": "code",
      "metadata": {
        "id": "Gyc1MH3f_VWg",
        "colab_type": "code",
        "outputId": "7dfd54b9-27a9-48bd-9bdc-b0c3bcb12d46",
        "colab": {
          "base_uri": "https://localhost:8080/",
          "height": 170
        }
      },
      "source": [
        "my_data.select_dtypes(include=[np.number]).columns.tolist()"
      ],
      "execution_count": 0,
      "outputs": [
        {
          "output_type": "execute_result",
          "data": {
            "text/plain": [
              "['ID',\n",
              " 'Amount.Requested',\n",
              " 'Amount.Funded.By.Investors',\n",
              " 'Interest.Rate',\n",
              " 'Debt.To.Income.Ratio',\n",
              " 'Monthly.Income',\n",
              " 'Open.CREDIT.Lines',\n",
              " 'Revolving.CREDIT.Balance',\n",
              " 'Inquiries.in.the.Last.6.Months']"
            ]
          },
          "metadata": {
            "tags": []
          },
          "execution_count": 45
        }
      ]
    },
    {
      "cell_type": "markdown",
      "metadata": {
        "id": "8nsjhJe2_kvP",
        "colab_type": "text"
      },
      "source": [
        "####Removing ID"
      ]
    },
    {
      "cell_type": "code",
      "metadata": {
        "id": "zZEMGzLP_mkz",
        "colab_type": "code",
        "outputId": "531e3139-a9c8-4b66-a2c6-943f16475586",
        "colab": {
          "base_uri": "https://localhost:8080/",
          "height": 224
        }
      },
      "source": [
        "t=my_data.select_dtypes(include=[np.number]).columns.tolist()[1:]\n",
        "my_data_num=(my_data[t]-my_data[t].mean())/my_data[t].std()#Normalising Data\n",
        "my_data_num.head()"
      ],
      "execution_count": 0,
      "outputs": [
        {
          "output_type": "execute_result",
          "data": {
            "text/html": [
              "<div>\n",
              "<style scoped>\n",
              "    .dataframe tbody tr th:only-of-type {\n",
              "        vertical-align: middle;\n",
              "    }\n",
              "\n",
              "    .dataframe tbody tr th {\n",
              "        vertical-align: top;\n",
              "    }\n",
              "\n",
              "    .dataframe thead th {\n",
              "        text-align: right;\n",
              "    }\n",
              "</style>\n",
              "<table border=\"1\" class=\"dataframe\">\n",
              "  <thead>\n",
              "    <tr style=\"text-align: right;\">\n",
              "      <th></th>\n",
              "      <th>Amount.Requested</th>\n",
              "      <th>Amount.Funded.By.Investors</th>\n",
              "      <th>Interest.Rate</th>\n",
              "      <th>Debt.To.Income.Ratio</th>\n",
              "      <th>Monthly.Income</th>\n",
              "      <th>Open.CREDIT.Lines</th>\n",
              "      <th>Revolving.CREDIT.Balance</th>\n",
              "      <th>Inquiries.in.the.Last.6.Months</th>\n",
              "    </tr>\n",
              "  </thead>\n",
              "  <tbody>\n",
              "    <tr>\n",
              "      <th>0</th>\n",
              "      <td>0.973893</td>\n",
              "      <td>1.035149</td>\n",
              "      <td>-0.978090</td>\n",
              "      <td>-0.049918</td>\n",
              "      <td>0.216108</td>\n",
              "      <td>0.872144</td>\n",
              "      <td>-0.052088</td>\n",
              "      <td>0.882222</td>\n",
              "    </tr>\n",
              "    <tr>\n",
              "      <th>1</th>\n",
              "      <td>0.871518</td>\n",
              "      <td>0.931836</td>\n",
              "      <td>-0.251714</td>\n",
              "      <td>1.679635</td>\n",
              "      <td>-0.278001</td>\n",
              "      <td>0.429341</td>\n",
              "      <td>-0.223154</td>\n",
              "      <td>0.072547</td>\n",
              "    </tr>\n",
              "    <tr>\n",
              "      <th>2</th>\n",
              "      <td>2.893421</td>\n",
              "      <td>2.972262</td>\n",
              "      <td>2.169540</td>\n",
              "      <td>1.147465</td>\n",
              "      <td>1.467145</td>\n",
              "      <td>0.872144</td>\n",
              "      <td>0.368749</td>\n",
              "      <td>0.072547</td>\n",
              "    </tr>\n",
              "    <tr>\n",
              "      <th>3</th>\n",
              "      <td>-0.305792</td>\n",
              "      <td>-0.259489</td>\n",
              "      <td>-0.735964</td>\n",
              "      <td>-0.182960</td>\n",
              "      <td>-0.467234</td>\n",
              "      <td>-0.013461</td>\n",
              "      <td>-0.321140</td>\n",
              "      <td>-0.737128</td>\n",
              "    </tr>\n",
              "    <tr>\n",
              "      <th>4</th>\n",
              "      <td>-0.049855</td>\n",
              "      <td>0.002022</td>\n",
              "      <td>-0.251714</td>\n",
              "      <td>0.482252</td>\n",
              "      <td>-0.628291</td>\n",
              "      <td>0.207940</td>\n",
              "      <td>-0.041328</td>\n",
              "      <td>-0.737128</td>\n",
              "    </tr>\n",
              "  </tbody>\n",
              "</table>\n",
              "</div>"
            ],
            "text/plain": [
              "   Amount.Requested  ...  Inquiries.in.the.Last.6.Months\n",
              "0          0.973893  ...                        0.882222\n",
              "1          0.871518  ...                        0.072547\n",
              "2          2.893421  ...                        0.072547\n",
              "3         -0.305792  ...                       -0.737128\n",
              "4         -0.049855  ...                       -0.737128\n",
              "\n",
              "[5 rows x 8 columns]"
            ]
          },
          "metadata": {
            "tags": []
          },
          "execution_count": 46
        }
      ]
    },
    {
      "cell_type": "markdown",
      "metadata": {
        "id": "nUpFNdIlAW4E",
        "colab_type": "text"
      },
      "source": [
        "Creation of dummy variables"
      ]
    },
    {
      "cell_type": "code",
      "metadata": {
        "id": "rjh94VQFAU2t",
        "colab_type": "code",
        "colab": {}
      },
      "source": [
        "my_data_cat=my_data.select_dtypes(include=['object']).columns.tolist()\n",
        "my_data_dummies=pd.get_dummies(my_data[my_data_cat])"
      ],
      "execution_count": 0,
      "outputs": []
    },
    {
      "cell_type": "code",
      "metadata": {
        "id": "vz-BqnZnAzhV",
        "colab_type": "code",
        "outputId": "e4da26b7-5d57-4c60-b29d-e9ebfb3f7bc6",
        "colab": {
          "base_uri": "https://localhost:8080/",
          "height": 241
        }
      },
      "source": [
        "my_data_dummies.head()"
      ],
      "execution_count": 0,
      "outputs": [
        {
          "output_type": "execute_result",
          "data": {
            "text/html": [
              "<div>\n",
              "<style scoped>\n",
              "    .dataframe tbody tr th:only-of-type {\n",
              "        vertical-align: middle;\n",
              "    }\n",
              "\n",
              "    .dataframe tbody tr th {\n",
              "        vertical-align: top;\n",
              "    }\n",
              "\n",
              "    .dataframe thead th {\n",
              "        text-align: right;\n",
              "    }\n",
              "</style>\n",
              "<table border=\"1\" class=\"dataframe\">\n",
              "  <thead>\n",
              "    <tr style=\"text-align: right;\">\n",
              "      <th></th>\n",
              "      <th>Loan.Length_36 months</th>\n",
              "      <th>Loan.Length_60 months</th>\n",
              "      <th>Loan.Purpose_car</th>\n",
              "      <th>Loan.Purpose_credit_card</th>\n",
              "      <th>Loan.Purpose_debt_consolidation</th>\n",
              "      <th>Loan.Purpose_educational</th>\n",
              "      <th>Loan.Purpose_home_improvement</th>\n",
              "      <th>Loan.Purpose_house</th>\n",
              "      <th>Loan.Purpose_major_purchase</th>\n",
              "      <th>Loan.Purpose_medical</th>\n",
              "      <th>Loan.Purpose_moving</th>\n",
              "      <th>Loan.Purpose_other</th>\n",
              "      <th>Loan.Purpose_renewable_energy</th>\n",
              "      <th>Loan.Purpose_small_business</th>\n",
              "      <th>Loan.Purpose_vacation</th>\n",
              "      <th>Loan.Purpose_wedding</th>\n",
              "      <th>Home.Ownership_MORTGAGE</th>\n",
              "      <th>Home.Ownership_NONE</th>\n",
              "      <th>Home.Ownership_OTHER</th>\n",
              "      <th>Home.Ownership_OWN</th>\n",
              "      <th>Home.Ownership_RENT</th>\n",
              "      <th>Employment.Length_1 year</th>\n",
              "      <th>Employment.Length_10+ years</th>\n",
              "      <th>Employment.Length_2 years</th>\n",
              "      <th>Employment.Length_3 years</th>\n",
              "      <th>Employment.Length_4 years</th>\n",
              "      <th>Employment.Length_5 years</th>\n",
              "      <th>Employment.Length_6 years</th>\n",
              "      <th>Employment.Length_7 years</th>\n",
              "      <th>Employment.Length_8 years</th>\n",
              "      <th>Employment.Length_9 years</th>\n",
              "    </tr>\n",
              "  </thead>\n",
              "  <tbody>\n",
              "    <tr>\n",
              "      <th>0</th>\n",
              "      <td>1</td>\n",
              "      <td>0</td>\n",
              "      <td>0</td>\n",
              "      <td>0</td>\n",
              "      <td>1</td>\n",
              "      <td>0</td>\n",
              "      <td>0</td>\n",
              "      <td>0</td>\n",
              "      <td>0</td>\n",
              "      <td>0</td>\n",
              "      <td>0</td>\n",
              "      <td>0</td>\n",
              "      <td>0</td>\n",
              "      <td>0</td>\n",
              "      <td>0</td>\n",
              "      <td>0</td>\n",
              "      <td>1</td>\n",
              "      <td>0</td>\n",
              "      <td>0</td>\n",
              "      <td>0</td>\n",
              "      <td>0</td>\n",
              "      <td>1</td>\n",
              "      <td>0</td>\n",
              "      <td>0</td>\n",
              "      <td>0</td>\n",
              "      <td>0</td>\n",
              "      <td>0</td>\n",
              "      <td>0</td>\n",
              "      <td>0</td>\n",
              "      <td>0</td>\n",
              "      <td>0</td>\n",
              "    </tr>\n",
              "    <tr>\n",
              "      <th>1</th>\n",
              "      <td>1</td>\n",
              "      <td>0</td>\n",
              "      <td>0</td>\n",
              "      <td>0</td>\n",
              "      <td>1</td>\n",
              "      <td>0</td>\n",
              "      <td>0</td>\n",
              "      <td>0</td>\n",
              "      <td>0</td>\n",
              "      <td>0</td>\n",
              "      <td>0</td>\n",
              "      <td>0</td>\n",
              "      <td>0</td>\n",
              "      <td>0</td>\n",
              "      <td>0</td>\n",
              "      <td>0</td>\n",
              "      <td>1</td>\n",
              "      <td>0</td>\n",
              "      <td>0</td>\n",
              "      <td>0</td>\n",
              "      <td>0</td>\n",
              "      <td>0</td>\n",
              "      <td>0</td>\n",
              "      <td>1</td>\n",
              "      <td>0</td>\n",
              "      <td>0</td>\n",
              "      <td>0</td>\n",
              "      <td>0</td>\n",
              "      <td>0</td>\n",
              "      <td>0</td>\n",
              "      <td>0</td>\n",
              "    </tr>\n",
              "    <tr>\n",
              "      <th>2</th>\n",
              "      <td>0</td>\n",
              "      <td>1</td>\n",
              "      <td>0</td>\n",
              "      <td>0</td>\n",
              "      <td>1</td>\n",
              "      <td>0</td>\n",
              "      <td>0</td>\n",
              "      <td>0</td>\n",
              "      <td>0</td>\n",
              "      <td>0</td>\n",
              "      <td>0</td>\n",
              "      <td>0</td>\n",
              "      <td>0</td>\n",
              "      <td>0</td>\n",
              "      <td>0</td>\n",
              "      <td>0</td>\n",
              "      <td>1</td>\n",
              "      <td>0</td>\n",
              "      <td>0</td>\n",
              "      <td>0</td>\n",
              "      <td>0</td>\n",
              "      <td>0</td>\n",
              "      <td>0</td>\n",
              "      <td>1</td>\n",
              "      <td>0</td>\n",
              "      <td>0</td>\n",
              "      <td>0</td>\n",
              "      <td>0</td>\n",
              "      <td>0</td>\n",
              "      <td>0</td>\n",
              "      <td>0</td>\n",
              "    </tr>\n",
              "    <tr>\n",
              "      <th>3</th>\n",
              "      <td>1</td>\n",
              "      <td>0</td>\n",
              "      <td>0</td>\n",
              "      <td>0</td>\n",
              "      <td>1</td>\n",
              "      <td>0</td>\n",
              "      <td>0</td>\n",
              "      <td>0</td>\n",
              "      <td>0</td>\n",
              "      <td>0</td>\n",
              "      <td>0</td>\n",
              "      <td>0</td>\n",
              "      <td>0</td>\n",
              "      <td>0</td>\n",
              "      <td>0</td>\n",
              "      <td>0</td>\n",
              "      <td>1</td>\n",
              "      <td>0</td>\n",
              "      <td>0</td>\n",
              "      <td>0</td>\n",
              "      <td>0</td>\n",
              "      <td>0</td>\n",
              "      <td>0</td>\n",
              "      <td>0</td>\n",
              "      <td>0</td>\n",
              "      <td>0</td>\n",
              "      <td>1</td>\n",
              "      <td>0</td>\n",
              "      <td>0</td>\n",
              "      <td>0</td>\n",
              "      <td>0</td>\n",
              "    </tr>\n",
              "    <tr>\n",
              "      <th>4</th>\n",
              "      <td>1</td>\n",
              "      <td>0</td>\n",
              "      <td>0</td>\n",
              "      <td>1</td>\n",
              "      <td>0</td>\n",
              "      <td>0</td>\n",
              "      <td>0</td>\n",
              "      <td>0</td>\n",
              "      <td>0</td>\n",
              "      <td>0</td>\n",
              "      <td>0</td>\n",
              "      <td>0</td>\n",
              "      <td>0</td>\n",
              "      <td>0</td>\n",
              "      <td>0</td>\n",
              "      <td>0</td>\n",
              "      <td>0</td>\n",
              "      <td>0</td>\n",
              "      <td>0</td>\n",
              "      <td>0</td>\n",
              "      <td>1</td>\n",
              "      <td>0</td>\n",
              "      <td>0</td>\n",
              "      <td>0</td>\n",
              "      <td>0</td>\n",
              "      <td>0</td>\n",
              "      <td>0</td>\n",
              "      <td>0</td>\n",
              "      <td>0</td>\n",
              "      <td>0</td>\n",
              "      <td>1</td>\n",
              "    </tr>\n",
              "  </tbody>\n",
              "</table>\n",
              "</div>"
            ],
            "text/plain": [
              "   Loan.Length_36 months  ...  Employment.Length_9 years\n",
              "0                      1  ...                          0\n",
              "1                      1  ...                          0\n",
              "2                      0  ...                          0\n",
              "3                      1  ...                          0\n",
              "4                      1  ...                          1\n",
              "\n",
              "[5 rows x 31 columns]"
            ]
          },
          "metadata": {
            "tags": []
          },
          "execution_count": 48
        }
      ]
    },
    {
      "cell_type": "code",
      "metadata": {
        "id": "l4j4hlAzBIHw",
        "colab_type": "code",
        "outputId": "aa5e9c92-2dc0-4246-ebe6-04984c687a22",
        "colab": {
          "base_uri": "https://localhost:8080/",
          "height": 241
        }
      },
      "source": [
        "my_data_combined=pd.concat([my_data_num, my_data_dummies],axis=1)\n",
        "my_data_combined.head()"
      ],
      "execution_count": 0,
      "outputs": [
        {
          "output_type": "execute_result",
          "data": {
            "text/html": [
              "<div>\n",
              "<style scoped>\n",
              "    .dataframe tbody tr th:only-of-type {\n",
              "        vertical-align: middle;\n",
              "    }\n",
              "\n",
              "    .dataframe tbody tr th {\n",
              "        vertical-align: top;\n",
              "    }\n",
              "\n",
              "    .dataframe thead th {\n",
              "        text-align: right;\n",
              "    }\n",
              "</style>\n",
              "<table border=\"1\" class=\"dataframe\">\n",
              "  <thead>\n",
              "    <tr style=\"text-align: right;\">\n",
              "      <th></th>\n",
              "      <th>Amount.Requested</th>\n",
              "      <th>Amount.Funded.By.Investors</th>\n",
              "      <th>Interest.Rate</th>\n",
              "      <th>Debt.To.Income.Ratio</th>\n",
              "      <th>Monthly.Income</th>\n",
              "      <th>Open.CREDIT.Lines</th>\n",
              "      <th>Revolving.CREDIT.Balance</th>\n",
              "      <th>Inquiries.in.the.Last.6.Months</th>\n",
              "      <th>Loan.Length_36 months</th>\n",
              "      <th>Loan.Length_60 months</th>\n",
              "      <th>Loan.Purpose_car</th>\n",
              "      <th>Loan.Purpose_credit_card</th>\n",
              "      <th>Loan.Purpose_debt_consolidation</th>\n",
              "      <th>Loan.Purpose_educational</th>\n",
              "      <th>Loan.Purpose_home_improvement</th>\n",
              "      <th>Loan.Purpose_house</th>\n",
              "      <th>Loan.Purpose_major_purchase</th>\n",
              "      <th>Loan.Purpose_medical</th>\n",
              "      <th>Loan.Purpose_moving</th>\n",
              "      <th>Loan.Purpose_other</th>\n",
              "      <th>Loan.Purpose_renewable_energy</th>\n",
              "      <th>Loan.Purpose_small_business</th>\n",
              "      <th>Loan.Purpose_vacation</th>\n",
              "      <th>Loan.Purpose_wedding</th>\n",
              "      <th>Home.Ownership_MORTGAGE</th>\n",
              "      <th>Home.Ownership_NONE</th>\n",
              "      <th>Home.Ownership_OTHER</th>\n",
              "      <th>Home.Ownership_OWN</th>\n",
              "      <th>Home.Ownership_RENT</th>\n",
              "      <th>Employment.Length_1 year</th>\n",
              "      <th>Employment.Length_10+ years</th>\n",
              "      <th>Employment.Length_2 years</th>\n",
              "      <th>Employment.Length_3 years</th>\n",
              "      <th>Employment.Length_4 years</th>\n",
              "      <th>Employment.Length_5 years</th>\n",
              "      <th>Employment.Length_6 years</th>\n",
              "      <th>Employment.Length_7 years</th>\n",
              "      <th>Employment.Length_8 years</th>\n",
              "      <th>Employment.Length_9 years</th>\n",
              "    </tr>\n",
              "  </thead>\n",
              "  <tbody>\n",
              "    <tr>\n",
              "      <th>0</th>\n",
              "      <td>0.973893</td>\n",
              "      <td>1.035149</td>\n",
              "      <td>-0.978090</td>\n",
              "      <td>-0.049918</td>\n",
              "      <td>0.216108</td>\n",
              "      <td>0.872144</td>\n",
              "      <td>-0.052088</td>\n",
              "      <td>0.882222</td>\n",
              "      <td>1</td>\n",
              "      <td>0</td>\n",
              "      <td>0</td>\n",
              "      <td>0</td>\n",
              "      <td>1</td>\n",
              "      <td>0</td>\n",
              "      <td>0</td>\n",
              "      <td>0</td>\n",
              "      <td>0</td>\n",
              "      <td>0</td>\n",
              "      <td>0</td>\n",
              "      <td>0</td>\n",
              "      <td>0</td>\n",
              "      <td>0</td>\n",
              "      <td>0</td>\n",
              "      <td>0</td>\n",
              "      <td>1</td>\n",
              "      <td>0</td>\n",
              "      <td>0</td>\n",
              "      <td>0</td>\n",
              "      <td>0</td>\n",
              "      <td>1</td>\n",
              "      <td>0</td>\n",
              "      <td>0</td>\n",
              "      <td>0</td>\n",
              "      <td>0</td>\n",
              "      <td>0</td>\n",
              "      <td>0</td>\n",
              "      <td>0</td>\n",
              "      <td>0</td>\n",
              "      <td>0</td>\n",
              "    </tr>\n",
              "    <tr>\n",
              "      <th>1</th>\n",
              "      <td>0.871518</td>\n",
              "      <td>0.931836</td>\n",
              "      <td>-0.251714</td>\n",
              "      <td>1.679635</td>\n",
              "      <td>-0.278001</td>\n",
              "      <td>0.429341</td>\n",
              "      <td>-0.223154</td>\n",
              "      <td>0.072547</td>\n",
              "      <td>1</td>\n",
              "      <td>0</td>\n",
              "      <td>0</td>\n",
              "      <td>0</td>\n",
              "      <td>1</td>\n",
              "      <td>0</td>\n",
              "      <td>0</td>\n",
              "      <td>0</td>\n",
              "      <td>0</td>\n",
              "      <td>0</td>\n",
              "      <td>0</td>\n",
              "      <td>0</td>\n",
              "      <td>0</td>\n",
              "      <td>0</td>\n",
              "      <td>0</td>\n",
              "      <td>0</td>\n",
              "      <td>1</td>\n",
              "      <td>0</td>\n",
              "      <td>0</td>\n",
              "      <td>0</td>\n",
              "      <td>0</td>\n",
              "      <td>0</td>\n",
              "      <td>0</td>\n",
              "      <td>1</td>\n",
              "      <td>0</td>\n",
              "      <td>0</td>\n",
              "      <td>0</td>\n",
              "      <td>0</td>\n",
              "      <td>0</td>\n",
              "      <td>0</td>\n",
              "      <td>0</td>\n",
              "    </tr>\n",
              "    <tr>\n",
              "      <th>2</th>\n",
              "      <td>2.893421</td>\n",
              "      <td>2.972262</td>\n",
              "      <td>2.169540</td>\n",
              "      <td>1.147465</td>\n",
              "      <td>1.467145</td>\n",
              "      <td>0.872144</td>\n",
              "      <td>0.368749</td>\n",
              "      <td>0.072547</td>\n",
              "      <td>0</td>\n",
              "      <td>1</td>\n",
              "      <td>0</td>\n",
              "      <td>0</td>\n",
              "      <td>1</td>\n",
              "      <td>0</td>\n",
              "      <td>0</td>\n",
              "      <td>0</td>\n",
              "      <td>0</td>\n",
              "      <td>0</td>\n",
              "      <td>0</td>\n",
              "      <td>0</td>\n",
              "      <td>0</td>\n",
              "      <td>0</td>\n",
              "      <td>0</td>\n",
              "      <td>0</td>\n",
              "      <td>1</td>\n",
              "      <td>0</td>\n",
              "      <td>0</td>\n",
              "      <td>0</td>\n",
              "      <td>0</td>\n",
              "      <td>0</td>\n",
              "      <td>0</td>\n",
              "      <td>1</td>\n",
              "      <td>0</td>\n",
              "      <td>0</td>\n",
              "      <td>0</td>\n",
              "      <td>0</td>\n",
              "      <td>0</td>\n",
              "      <td>0</td>\n",
              "      <td>0</td>\n",
              "    </tr>\n",
              "    <tr>\n",
              "      <th>3</th>\n",
              "      <td>-0.305792</td>\n",
              "      <td>-0.259489</td>\n",
              "      <td>-0.735964</td>\n",
              "      <td>-0.182960</td>\n",
              "      <td>-0.467234</td>\n",
              "      <td>-0.013461</td>\n",
              "      <td>-0.321140</td>\n",
              "      <td>-0.737128</td>\n",
              "      <td>1</td>\n",
              "      <td>0</td>\n",
              "      <td>0</td>\n",
              "      <td>0</td>\n",
              "      <td>1</td>\n",
              "      <td>0</td>\n",
              "      <td>0</td>\n",
              "      <td>0</td>\n",
              "      <td>0</td>\n",
              "      <td>0</td>\n",
              "      <td>0</td>\n",
              "      <td>0</td>\n",
              "      <td>0</td>\n",
              "      <td>0</td>\n",
              "      <td>0</td>\n",
              "      <td>0</td>\n",
              "      <td>1</td>\n",
              "      <td>0</td>\n",
              "      <td>0</td>\n",
              "      <td>0</td>\n",
              "      <td>0</td>\n",
              "      <td>0</td>\n",
              "      <td>0</td>\n",
              "      <td>0</td>\n",
              "      <td>0</td>\n",
              "      <td>0</td>\n",
              "      <td>1</td>\n",
              "      <td>0</td>\n",
              "      <td>0</td>\n",
              "      <td>0</td>\n",
              "      <td>0</td>\n",
              "    </tr>\n",
              "    <tr>\n",
              "      <th>4</th>\n",
              "      <td>-0.049855</td>\n",
              "      <td>0.002022</td>\n",
              "      <td>-0.251714</td>\n",
              "      <td>0.482252</td>\n",
              "      <td>-0.628291</td>\n",
              "      <td>0.207940</td>\n",
              "      <td>-0.041328</td>\n",
              "      <td>-0.737128</td>\n",
              "      <td>1</td>\n",
              "      <td>0</td>\n",
              "      <td>0</td>\n",
              "      <td>1</td>\n",
              "      <td>0</td>\n",
              "      <td>0</td>\n",
              "      <td>0</td>\n",
              "      <td>0</td>\n",
              "      <td>0</td>\n",
              "      <td>0</td>\n",
              "      <td>0</td>\n",
              "      <td>0</td>\n",
              "      <td>0</td>\n",
              "      <td>0</td>\n",
              "      <td>0</td>\n",
              "      <td>0</td>\n",
              "      <td>0</td>\n",
              "      <td>0</td>\n",
              "      <td>0</td>\n",
              "      <td>0</td>\n",
              "      <td>1</td>\n",
              "      <td>0</td>\n",
              "      <td>0</td>\n",
              "      <td>0</td>\n",
              "      <td>0</td>\n",
              "      <td>0</td>\n",
              "      <td>0</td>\n",
              "      <td>0</td>\n",
              "      <td>0</td>\n",
              "      <td>0</td>\n",
              "      <td>1</td>\n",
              "    </tr>\n",
              "  </tbody>\n",
              "</table>\n",
              "</div>"
            ],
            "text/plain": [
              "   Amount.Requested  ...  Employment.Length_9 years\n",
              "0          0.973893  ...                          0\n",
              "1          0.871518  ...                          0\n",
              "2          2.893421  ...                          0\n",
              "3         -0.305792  ...                          0\n",
              "4         -0.049855  ...                          1\n",
              "\n",
              "[5 rows x 39 columns]"
            ]
          },
          "metadata": {
            "tags": []
          },
          "execution_count": 49
        }
      ]
    },
    {
      "cell_type": "code",
      "metadata": {
        "id": "DY9UQZqgGOvM",
        "colab_type": "code",
        "outputId": "d0ad0562-5ff5-493a-94bb-40d1e64cadb3",
        "colab": {
          "base_uri": "https://localhost:8080/",
          "height": 697
        }
      },
      "source": [
        "my_data_combined.isnull().sum(axis=0)"
      ],
      "execution_count": 0,
      "outputs": [
        {
          "output_type": "execute_result",
          "data": {
            "text/plain": [
              "Amount.Requested                   0\n",
              "Amount.Funded.By.Investors         0\n",
              "Interest.Rate                      0\n",
              "Debt.To.Income.Ratio               0\n",
              "Monthly.Income                     0\n",
              "Open.CREDIT.Lines                  0\n",
              "Revolving.CREDIT.Balance           0\n",
              "Inquiries.in.the.Last.6.Months     0\n",
              "Loan.Length_36 months              0\n",
              "Loan.Length_60 months              0\n",
              "Loan.Purpose_car                   0\n",
              "Loan.Purpose_credit_card           0\n",
              "Loan.Purpose_debt_consolidation    0\n",
              "Loan.Purpose_educational           0\n",
              "Loan.Purpose_home_improvement      0\n",
              "Loan.Purpose_house                 0\n",
              "Loan.Purpose_major_purchase        0\n",
              "Loan.Purpose_medical               0\n",
              "Loan.Purpose_moving                0\n",
              "Loan.Purpose_other                 0\n",
              "Loan.Purpose_renewable_energy      0\n",
              "Loan.Purpose_small_business        0\n",
              "Loan.Purpose_vacation              0\n",
              "Loan.Purpose_wedding               0\n",
              "Home.Ownership_MORTGAGE            0\n",
              "Home.Ownership_NONE                0\n",
              "Home.Ownership_OTHER               0\n",
              "Home.Ownership_OWN                 0\n",
              "Home.Ownership_RENT                0\n",
              "Employment.Length_1 year           0\n",
              "Employment.Length_10+ years        0\n",
              "Employment.Length_2 years          0\n",
              "Employment.Length_3 years          0\n",
              "Employment.Length_4 years          0\n",
              "Employment.Length_5 years          0\n",
              "Employment.Length_6 years          0\n",
              "Employment.Length_7 years          0\n",
              "Employment.Length_8 years          0\n",
              "Employment.Length_9 years          0\n",
              "dtype: int64"
            ]
          },
          "metadata": {
            "tags": []
          },
          "execution_count": 50
        }
      ]
    },
    {
      "cell_type": "code",
      "metadata": {
        "id": "GsOJ8OouIbma",
        "colab_type": "code",
        "colab": {}
      },
      "source": [
        "# Putting feature variable to X\n",
        "X = my_data_combined.drop('Interest.Rate', axis= 1)\n",
        "\n",
        "# Putting response variable to y\n",
        "y = my_data_combined[['Interest.Rate']]"
      ],
      "execution_count": 0,
      "outputs": []
    },
    {
      "cell_type": "code",
      "metadata": {
        "id": "hylOXKU-Ilpm",
        "colab_type": "code",
        "colab": {}
      },
      "source": [
        "ones=np.ones([X.shape[0],1])\n",
        "X = np.concatenate((ones,X),axis=1)\n",
        "theta=np.zeros([1,X.shape[1]])"
      ],
      "execution_count": 0,
      "outputs": []
    },
    {
      "cell_type": "code",
      "metadata": {
        "id": "m4sVRm-GKKId",
        "colab_type": "code",
        "outputId": "f846e0c6-ac4f-4e10-918e-0e36f4432432",
        "colab": {
          "base_uri": "https://localhost:8080/",
          "height": 34
        }
      },
      "source": [
        "np.shape(theta)"
      ],
      "execution_count": 0,
      "outputs": [
        {
          "output_type": "execute_result",
          "data": {
            "text/plain": [
              "(1, 39)"
            ]
          },
          "metadata": {
            "tags": []
          },
          "execution_count": 53
        }
      ]
    },
    {
      "cell_type": "code",
      "metadata": {
        "id": "Xub6ZMo7L9M-",
        "colab_type": "code",
        "colab": {}
      },
      "source": [
        "#set hyper parameters\n",
        "alpha = 0.01\n",
        "iters = 1000\n",
        "m=X.shape[0]"
      ],
      "execution_count": 0,
      "outputs": []
    },
    {
      "cell_type": "code",
      "metadata": {
        "id": "sCugDrnnMMvY",
        "colab_type": "code",
        "colab": {}
      },
      "source": [
        "def computeCost(X,y,theta):\n",
        "  cost=1/(2*m)*np.sum(np.power(((X @ theta.T)-y),2))\n",
        "  return cost"
      ],
      "execution_count": 0,
      "outputs": []
    },
    {
      "cell_type": "code",
      "metadata": {
        "id": "jWPv_czLNTvt",
        "colab_type": "code",
        "colab": {}
      },
      "source": [
        "\n",
        "#gradient descent\n",
        "def gradientDescent(X,y,theta,iters,alpha):\n",
        "    cost = np.zeros(iters)\n",
        "    for i in range(iters):\n",
        "        theta = theta - (alpha/m) * ((X @ theta.T - y).T @ X)\n",
        "        cost[i] = computeCost(X, y, theta)\n",
        "    \n",
        "    return theta,cost\n",
        "\n"
      ],
      "execution_count": 0,
      "outputs": []
    },
    {
      "cell_type": "code",
      "metadata": {
        "id": "Cp2WuBXVOFVj",
        "colab_type": "code",
        "outputId": "c1b3bc96-0d8b-4143-89b7-001cfe8bfcbf",
        "colab": {
          "base_uri": "https://localhost:8080/",
          "height": 119
        }
      },
      "source": [
        "#running the gd and cost function\n",
        "g,cost = gradientDescent(X,y,theta,iters,alpha)\n",
        "print(g)\n",
        "\n",
        "finalCost = computeCost(X,y,g)\n",
        "print(finalCost)"
      ],
      "execution_count": 0,
      "outputs": [
        {
          "output_type": "stream",
          "text": [
            "                     0         1         2   ...        36        37        38\n",
            "Interest.Rate  0.073343  0.092093  0.155201  ...  0.032622 -0.000009 -0.021312\n",
            "\n",
            "[1 rows x 39 columns]\n",
            "Interest.Rate    0.350954\n",
            "dtype: float64\n"
          ],
          "name": "stdout"
        }
      ]
    },
    {
      "cell_type": "code",
      "metadata": {
        "id": "bVqhl5R2SZhU",
        "colab_type": "code",
        "outputId": "4dad54eb-067a-4a7b-bf70-1a7920f3a1b9",
        "colab": {
          "base_uri": "https://localhost:8080/",
          "height": 312
        }
      },
      "source": [
        "#plot the cost\n",
        "fig, ax = plt.subplots()  \n",
        "ax.plot(np.arange(iters), cost, 'r')  \n",
        "ax.set_xlabel('Iterations')  \n",
        "ax.set_ylabel('Cost')  \n",
        "ax.set_title('Error vs. Training Epoch') "
      ],
      "execution_count": 0,
      "outputs": [
        {
          "output_type": "execute_result",
          "data": {
            "text/plain": [
              "Text(0.5, 1.0, 'Error vs. Training Epoch')"
            ]
          },
          "metadata": {
            "tags": []
          },
          "execution_count": 58
        },
        {
          "output_type": "display_data",
          "data": {
            "image/png": "[encoded data removed]",
            "text/plain": [
              "<Figure size 432x288 with 1 Axes>"
            ]
          },
          "metadata": {
            "tags": []
          }
        }
      ]
    },
    {
      "cell_type": "code",
      "metadata": {
        "id": "K2eJAVmjSjFD",
        "colab_type": "code",
        "outputId": "bbfd877b-aea1-4c03-d89d-d612f78d7e5d",
        "colab": {
          "base_uri": "https://localhost:8080/",
          "height": 153
        }
      },
      "source": [
        "y_pred_gd=np.dot(X,g.T)\n",
        "print(y_pred[1:5])\n",
        "print(y_pred_gd[1:5])"
      ],
      "execution_count": 0,
      "outputs": [
        {
          "output_type": "stream",
          "text": [
            "[[ 0.08671656]\n",
            " [ 1.24137988]\n",
            " [-0.41004728]\n",
            " [-0.17303088]]\n",
            "[[ 0.16043645]\n",
            " [ 1.25103155]\n",
            " [-0.42415853]\n",
            " [-0.10098712]]\n"
          ],
          "name": "stdout"
        }
      ]
    },
    {
      "cell_type": "code",
      "metadata": {
        "id": "07bND7WGS_Y4",
        "colab_type": "code",
        "outputId": "9e5e458d-d7c0-451f-beb0-1316dc35a612",
        "colab": {
          "base_uri": "https://localhost:8080/",
          "height": 282
        }
      },
      "source": [
        "plt.plot(np.arange(2500),y,)\n",
        "plt.plot(np.arange(2500),y_pred_gd)"
      ],
      "execution_count": 0,
      "outputs": [
        {
          "output_type": "execute_result",
          "data": {
            "text/plain": [
              "[<matplotlib.lines.Line2D at 0x7f8ac6dea080>]"
            ]
          },
          "metadata": {
            "tags": []
          },
          "execution_count": 60
        },
        {
          "output_type": "display_data",
          "data": {
            "image/png": "[encoded data removed]",
            "text/plain": [
              "<Figure size 432x288 with 1 Axes>"
            ]
          },
          "metadata": {
            "tags": []
          }
        }
      ]
    },
    {
      "cell_type": "markdown",
      "metadata": {
        "id": "N6H6nTGpD1PJ",
        "colab_type": "text"
      },
      "source": [
        "#Same problem using Library"
      ]
    },
    {
      "cell_type": "code",
      "metadata": {
        "id": "JpLlltTLTx1j",
        "colab_type": "code",
        "colab": {}
      },
      "source": [
        "from sklearn.linear_model import LinearRegression"
      ],
      "execution_count": 0,
      "outputs": []
    },
    {
      "cell_type": "code",
      "metadata": {
        "id": "CRhCAkAiUQ_i",
        "colab_type": "code",
        "colab": {}
      },
      "source": [
        "lr=LinearRegression()"
      ],
      "execution_count": 0,
      "outputs": []
    },
    {
      "cell_type": "code",
      "metadata": {
        "id": "1a1KCl6OUUEx",
        "colab_type": "code",
        "outputId": "c7c03d2c-cbc8-4f79-e4b7-caa753579215",
        "colab": {
          "base_uri": "https://localhost:8080/",
          "height": 34
        }
      },
      "source": [
        "lr.fit(X,y)"
      ],
      "execution_count": 0,
      "outputs": [
        {
          "output_type": "execute_result",
          "data": {
            "text/plain": [
              "LinearRegression(copy_X=True, fit_intercept=True, n_jobs=None, normalize=False)"
            ]
          },
          "metadata": {
            "tags": []
          },
          "execution_count": 63
        }
      ]
    },
    {
      "cell_type": "code",
      "metadata": {
        "id": "JT3n4etHUdLm",
        "colab_type": "code",
        "colab": {}
      },
      "source": [
        "y_pred=lr.predict(X)"
      ],
      "execution_count": 0,
      "outputs": []
    },
    {
      "cell_type": "code",
      "metadata": {
        "id": "WosK9antUddQ",
        "colab_type": "code",
        "outputId": "a87d0256-ae8c-4825-adab-f2c53cc75c3a",
        "colab": {
          "base_uri": "https://localhost:8080/",
          "height": 282
        }
      },
      "source": [
        "plt.plot(np.arange(2500),y,)\n",
        "plt.plot(np.arange(2500),y_pred)"
      ],
      "execution_count": 0,
      "outputs": [
        {
          "output_type": "execute_result",
          "data": {
            "text/plain": [
              "[<matplotlib.lines.Line2D at 0x7f8ac6d02fd0>]"
            ]
          },
          "metadata": {
            "tags": []
          },
          "execution_count": 72
        },
        {
          "output_type": "display_data",
          "data": {
            "image/png": "[encoded data removed]",
            "text/plain": [
              "<Figure size 432x288 with 1 Axes>"
            ]
          },
          "metadata": {
            "tags": []
          }
        }
      ]
    },
    {
      "cell_type": "code",
      "metadata": {
        "id": "jVphWE_GVD_E",
        "colab_type": "code",
        "outputId": "44977af5-f17d-47d9-8638-cca24bf7261b",
        "colab": {
          "base_uri": "https://localhost:8080/",
          "height": 187
        }
      },
      "source": [
        "list(zip(lr.coef_))"
      ],
      "execution_count": 0,
      "outputs": [
        {
          "output_type": "execute_result",
          "data": {
            "text/plain": [
              "[(array([ 1.05414164e-16,  6.79252343e-03,  2.18265867e-01,  1.09736180e-01,\n",
              "         -4.43286016e-02, -1.03423189e-02, -8.54086956e-03,  1.85297642e-01,\n",
              "          1.41363103e+00,  2.25459829e+00, -8.20409818e-01, -3.77716122e-01,\n",
              "         -3.71473583e-01, -6.10441408e-01, -7.19710681e-01, -4.42982906e-01,\n",
              "         -7.43841052e-01, -6.24792651e-01, -2.08296029e-01, -2.85479426e-01,\n",
              "         -8.01739483e-01, -5.06416769e-01, -4.57826858e-01, -4.75403770e-01,\n",
              "         -7.70100101e-01, -2.13785297e+00,  1.92092851e-01, -5.81136934e-01,\n",
              "         -4.95539578e-01, -3.35919527e-02, -8.78992562e-03, -8.32998824e-02,\n",
              "         -1.03663453e-01, -2.07771867e-02,  2.85786895e-02, -1.33498657e-02,\n",
              "          5.28677416e-02, -4.95263885e-02, -1.36997793e-01]),)]"
            ]
          },
          "metadata": {
            "tags": []
          },
          "execution_count": 66
        }
      ]
    },
    {
      "cell_type": "code",
      "metadata": {
        "id": "B1ph0Pi9E9hf",
        "colab_type": "code",
        "colab": {}
      },
      "source": [
        "from sklearn.metrics import mean_squared_error"
      ],
      "execution_count": 0,
      "outputs": []
    },
    {
      "cell_type": "code",
      "metadata": {
        "id": "LLDnC9-aFQAR",
        "colab_type": "code",
        "outputId": "69b44c53-fd9f-4220-9c2e-bea07302b220",
        "colab": {
          "base_uri": "https://localhost:8080/",
          "height": 34
        }
      },
      "source": [
        "mean_squared_error(y,y_pred)\n"
      ],
      "execution_count": 0,
      "outputs": [
        {
          "output_type": "execute_result",
          "data": {
            "text/plain": [
              "0.6910550472164132"
            ]
          },
          "metadata": {
            "tags": []
          },
          "execution_count": 95
        }
      ]
    },
    {
      "cell_type": "markdown",
      "metadata": {
        "id": "R3iJXIl0kllB",
        "colab_type": "text"
      },
      "source": [
        "#Cost minimization with gradient decent(.35) is better than Sklearn Library(.69)"
      ]
    }
  ]
}